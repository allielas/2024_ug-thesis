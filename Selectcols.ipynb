{
 "cells": [
  {
   "cell_type": "code",
   "execution_count": 10,
   "id": "0732fba8-8e38-4d20-a5b0-9902eb371f93",
   "metadata": {},
   "outputs": [],
   "source": [
    "import math\n",
    "import os\n",
    "import pandas as pd\n",
    "import numpy as np\n",
    "import matplotlib.pyplot as plt"
   ]
  },
  {
   "cell_type": "code",
   "execution_count": 11,
   "id": "fc89d8a6-391f-4a00-b756-422341e13120",
   "metadata": {},
   "outputs": [],
   "source": [
    "image_df = pd.read_csv('/Users/allielas/Desktop/Mar14/AS_Image.csv', usecols=['Count_Mitochondria','Count_Lysosomes','Count_Nuclei','Metadata_Well','Metadata_WellRow','Metadata_WellColumn','Metadata_Field'])\n",
    "outline_df = pd.read_csv('/Users/allielas/Desktop/Mar14/AS_CellOutline.csv', usecols=['AreaShape_Area','AreaShape_ConvexArea','Metadata_Well','Metadata_WellRow','Metadata_WellColumn','Metadata_Field'])\n",
    "nuclei_df = pd.read_csv('/Users/allielas/Desktop/Mar14/AS_Nuclei.csv', usecols=['AreaShape_Area','AreaShape_ConvexArea','Metadata_Well','Metadata_WellRow','Metadata_WellColumn','Metadata_Field'])\n",
    "lyso_df = pd.read_csv('/Users/allielas/Desktop/Mar14/AS_Lysosomes.csv', usecols=['AreaShape_Area','AreaShape_ConvexArea','AreaShape_Eccentricity','Texture_Contrast_LAMP1_3_01_256', 'Texture_SumVariance_LAMP1_3_00_256',\n",
    "    'Intensity_MeanIntensity_LAMP1' , 'Intensity_MedianIntensity_LAMP1','Metadata_Well','Metadata_WellRow','Metadata_WellColumn','Metadata_Field'])\n",
    "mito_df = pd.read_csv('/Users/allielas/Desktop/Mar14/AS_Mitochondria.csv',usecols=['Intensity_MeanIntensity_MitoTracker','Intensity_MedianIntensity_MitoTracker', 'Texture_Contrast_MitoTracker_3_01_256','Texture_SumVariance_MitoTracker_3_00_256', \n",
    "     'AreaShape_Area', 'AreaShape_ConvexArea','Metadata_Well','Metadata_WellRow','Metadata_WellColumn','Metadata_Field'])\n",
    "map_df = pd.read_csv('/Users/allielas/Desktop/Mar14/map.csv',usecols=['Metadata_Well','Metadata_WellRow','Metadata_WellColumn','Metadata_Field','Time','Replicate','TimepointName'])"
   ]
  },
  {
   "cell_type": "code",
   "execution_count": 38,
   "id": "63c4f997-a087-4bae-843f-1908005cf50f",
   "metadata": {},
   "outputs": [],
   "source": [
    "#image_df.head\n",
    "#mito_df.head\n",
    "\n",
    "full = pd.read_csv('/Users/allielas/Desktop/Mar14/AS_Nuclei.csv')\n",
    "#full.head\n",
    "#print(full.columns.tolist())\n",
    "#full[['Number_Object_Number','Children_Mitochondria']].head(10000)\n",
    "\n",
    "#Rerun CP and enable the export of children / parent indicies in the relateObjects module OR even just have a separate column for objectrelationships\n"
   ]
  },
  {
   "cell_type": "code",
   "execution_count": 7,
   "id": "00130c24-87bb-4d21-9b49-e88163a14412",
   "metadata": {},
   "outputs": [
    {
     "data": {
      "text/plain": [
       "<bound method NDFrame.head of          Metadata_Field Metadata_Well  Metadata_WellColumn  Metadata_WellRow   \n",
       "0                     1           B02                    2                 2  \\\n",
       "1                     1           B02                    2                 2   \n",
       "2                     1           B02                    2                 2   \n",
       "3                     1           B02                    2                 2   \n",
       "4                     1           B02                    2                 2   \n",
       "...                 ...           ...                  ...               ...   \n",
       "2115959              40           G06                    6                 7   \n",
       "2115960              40           G06                    6                 7   \n",
       "2115961              40           G06                    6                 7   \n",
       "2115962              40           G06                    6                 7   \n",
       "2115963              40           G06                    6                 7   \n",
       "\n",
       "         AreaShape_Area  AreaShape_ConvexArea  AreaShape_Eccentricity   \n",
       "0                    63                    66                0.327007  \\\n",
       "1                   112                   115                0.378249   \n",
       "2                    80                    85                0.271890   \n",
       "3                    80                    84                0.454293   \n",
       "4                     2                     2                1.000000   \n",
       "...                 ...                   ...                     ...   \n",
       "2115959              14                    14                0.203653   \n",
       "2115960              71                    75                0.444527   \n",
       "2115961             149                   156                0.879535   \n",
       "2115962               4                     4                0.000000   \n",
       "2115963              98                   100                0.629638   \n",
       "\n",
       "         Intensity_MeanIntensity_LAMP1  Intensity_MedianIntensity_LAMP1   \n",
       "0                             0.006118                         0.004356  \\\n",
       "1                             0.011265                         0.007752   \n",
       "2                             0.005144                         0.004410   \n",
       "3                             0.008084                         0.005875   \n",
       "4                             0.004280                         0.004456   \n",
       "...                                ...                              ...   \n",
       "2115959                       0.031345                         0.030320   \n",
       "2115960                       0.047495                         0.043610   \n",
       "2115961                       0.053480                         0.052941   \n",
       "2115962                       0.030804                         0.030900   \n",
       "2115963                       0.060260                         0.052628   \n",
       "\n",
       "         Texture_Contrast_LAMP1_3_01_256  Texture_SumVariance_LAMP1_3_00_256   \n",
       "0                               2.777778                            1.386413  \\\n",
       "1                              17.937500                           15.267832   \n",
       "2                               1.000000                            0.520000   \n",
       "3                               7.075000                            4.345600   \n",
       "4                               0.000000                            0.000000   \n",
       "...                                  ...                                 ...   \n",
       "2115959                         0.000000                            0.000000   \n",
       "2115960                        71.000000                           37.027211   \n",
       "2115961                        76.698795                           28.988067   \n",
       "2115962                         0.000000                            0.000000   \n",
       "2115963                       184.982143                          154.093254   \n",
       "\n",
       "        TimepointName  Replicate  Time  \n",
       "0                R1T4        1.0   4.0  \n",
       "1                R1T4        1.0   4.0  \n",
       "2                R1T4        1.0   4.0  \n",
       "3                R1T4        1.0   4.0  \n",
       "4                R1T4        1.0   4.0  \n",
       "...               ...        ...   ...  \n",
       "2115959          R5T0        5.0   0.0  \n",
       "2115960          R5T0        5.0   0.0  \n",
       "2115961          R5T0        5.0   0.0  \n",
       "2115962          R5T0        5.0   0.0  \n",
       "2115963          R5T0        5.0   0.0  \n",
       "\n",
       "[2115964 rows x 14 columns]>"
      ]
     },
     "execution_count": 7,
     "metadata": {},
     "output_type": "execute_result"
    }
   ],
   "source": [
    "\n",
    "newdf = lyso_df.merge(map_df, on=['Metadata_Well','Metadata_WellRow','Metadata_WellColumn','Metadata_Field'], how ='left')\n",
    "#newdf = mito_df.join(map_df,how='left',on='Metadata_Well')\n",
    "newdf.head\n",
    "\n",
    "\n",
    "    #df['Time'] = df['Time'].astype(int)"
   ]
  },
  {
   "cell_type": "code",
   "execution_count": 9,
   "id": "67b7c3d9-9331-4e76-8bdc-09c54b316f67",
   "metadata": {},
   "outputs": [],
   "source": [
    "\n",
    "names = {0:'mito_df', 1:'nuclei_df', 2:'outline_df', 3:'image_df', 4:'lyso_df'} #make dict and dfs with matching indicies\n",
    "dfs = [mito_df, nuclei_df, outline_df, image_df, lyso_df]\n",
    "\n",
    "for i in range(len(dfs)):\n",
    "    df = dfs[i] ##df at index i\n",
    "    \n",
    "    merge_df = df.merge(map_df, on=['Metadata_Well','Metadata_WellRow','Metadata_WellColumn','Metadata_Field'], how ='left')\n",
    "    \n",
    "    df_name = names[i] #access dictionary at index 1\n",
    "    \n",
    "    output_filename = f\"{df_name}_merged.csv\"\n",
    "\n",
    "    merge_df.to_csv(output_filename, index = True)\n",
    "    #df['Time'] = df['Time'].astype(int)"
   ]
  },
  {
   "cell_type": "code",
   "execution_count": null,
   "id": "012f8e5b-d569-404e-ab2e-50fc87e79397",
   "metadata": {},
   "outputs": [],
   "source": []
  }
 ],
 "metadata": {
  "kernelspec": {
   "display_name": "Python 3 (ipykernel)",
   "language": "python",
   "name": "python3"
  },
  "language_info": {
   "codemirror_mode": {
    "name": "ipython",
    "version": 3
   },
   "file_extension": ".py",
   "mimetype": "text/x-python",
   "name": "python",
   "nbconvert_exporter": "python",
   "pygments_lexer": "ipython3",
   "version": "3.11.6"
  }
 },
 "nbformat": 4,
 "nbformat_minor": 5
}
